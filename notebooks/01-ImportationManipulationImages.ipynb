{
  "cells": [
    {
      "cell_type": "markdown",
      "metadata": {
        "id": "ilrVG_oPLi70"
      },
      "source": [
        "---\n",
        "jupyter: python3\n",
        "from: markdown+emoji\n",
        "execute:\n",
        "  echo: true\n",
        "  eval: true\n",
        "  message: false\n",
        "  warning: false\n",
        "---\n",
        "\n",
        "# Importation et manipulation de données spatiales {#sec-chap01}\n",
        "\n",
        "## Préambule\n",
        "\n",
        "Assurez-vous de lire ce préambule avant d'exécutez le reste du notebook.\n",
        "\n",
        "### Objectifs\n",
        "\n",
        "Dans ce chapitre, nous abordons quelques formats d'images ainsi que leur lecture. Ce chapitre est aussi disponible sous la forme d'un notebook Python:\n",
        "\n",
        "[![](https://github.com/sfoucher/TraitementImagesPythonVol1/blob/main/notebooks/images/colab.png?raw=1)](https://colab.research.google.com/github/sfoucher/TraitementImagesPythonVol1/blob/main/notebooks/01-ImportationManipulationImages.ipynb)\n",
        "\n",
        "::::: bloc_objectif\n",
        ":::: bloc_objectif-header\n",
        "::: bloc_objectif-icon\n",
        ":::\n",
        "\n",
        "**Objectifs d'apprentissage visés dans ce chapitre**\n",
        "::::\n",
        "\n",
        "À la fin de ce chapitre, vous devriez être en mesure de :\n",
        "\n",
        "-   connaître les principales bibliothèques Python pour lire une image;\n",
        "-   accéder à l'information d'une image avant de la lire;\n",
        "-   comprendre les principaux formats pour une image\n",
        "-   manipuler la matrice de la donnée d'une image avec numpy\n",
        ":::::\n",
        "\n",
        "### Bibliothèques\n",
        "\n",
        "Les bibliothèques qui vont être explorées dans ce chapitre sont les suivantes:\n",
        "\n",
        "-   [SciPy](https://scipy.org/)\n",
        "\n",
        "-   [NumPy](https://numpy.org/)\n",
        "\n",
        "-   [opencv-python · PyPI](https://pypi.org/project/opencv-python/)\n",
        "\n",
        "-   [scikit-image](https://scikit-image.org/)\n",
        "\n",
        "-   [Rasterio](https://rasterio.readthedocs.io/en/stable/)\n",
        "\n",
        "-   [Xarray](https://docs.xarray.dev/en/stable/)\n",
        "\n",
        "-   [rioxarray](https://corteva.github.io/rioxarray/stable/index.html)\n",
        "\n",
        "Dans l'environnement Google Colab, seul `rioxarray` et `gdal` doivent être installés:"
      ]
    },
    {
      "cell_type": "code",
      "metadata": {
        "colab": {
          "base_uri": "https://localhost:8080/"
        },
        "id": "AhjtPZsNLi74",
        "outputId": "63708f63-fe6c-4740-bf87-9fc3f3277410"
      },
      "source": [
        "#| eval: false\n",
        "!apt-get update\n",
        "!apt-get install gdal-bin libgdal-dev\n",
        "!pip install -q rioxarray xrscipy"
      ],
      "execution_count": 2,
      "outputs": [
        {
          "output_type": "stream",
          "name": "stdout",
          "text": [
            "Hit:1 https://developer.download.nvidia.com/compute/cuda/repos/ubuntu2204/x86_64  InRelease\n",
            "Hit:2 https://cli.github.com/packages stable InRelease\n",
            "Get:3 https://cloud.r-project.org/bin/linux/ubuntu jammy-cran40/ InRelease [3,632 B]\n",
            "Hit:4 http://archive.ubuntu.com/ubuntu jammy InRelease\n",
            "Get:5 http://security.ubuntu.com/ubuntu jammy-security InRelease [129 kB]\n",
            "Get:6 http://archive.ubuntu.com/ubuntu jammy-updates InRelease [128 kB]\n",
            "Get:7 https://r2u.stat.illinois.edu/ubuntu jammy InRelease [6,555 B]\n",
            "Hit:8 https://ppa.launchpadcontent.net/deadsnakes/ppa/ubuntu jammy InRelease\n",
            "Get:9 http://archive.ubuntu.com/ubuntu jammy-backports InRelease [127 kB]\n",
            "Hit:10 https://ppa.launchpadcontent.net/graphics-drivers/ppa/ubuntu jammy InRelease\n",
            "Hit:11 https://ppa.launchpadcontent.net/ubuntugis/ppa/ubuntu jammy InRelease\n",
            "Get:12 https://r2u.stat.illinois.edu/ubuntu jammy/main amd64 Packages [2,816 kB]\n",
            "Get:13 http://archive.ubuntu.com/ubuntu jammy-updates/universe amd64 Packages [1,594 kB]\n",
            "Get:14 http://security.ubuntu.com/ubuntu jammy-security/main amd64 Packages [3,473 kB]\n",
            "Get:15 http://archive.ubuntu.com/ubuntu jammy-updates/main amd64 Packages [3,799 kB]\n",
            "Get:16 https://r2u.stat.illinois.edu/ubuntu jammy/main all Packages [9,389 kB]\n",
            "Fetched 21.5 MB in 7s (3,026 kB/s)\n",
            "Reading package lists... Done\n",
            "W: Skipping acquire of configured file 'main/source/Sources' as repository 'https://r2u.stat.illinois.edu/ubuntu jammy InRelease' does not seem to provide it (sources.list entry misspelt?)\n",
            "Reading package lists... Done\n",
            "Building dependency tree... Done\n",
            "Reading state information... Done\n",
            "libgdal-dev is already the newest version (3.8.4+dfsg-1~jammy0).\n",
            "The following additional packages will be installed:\n",
            "  python3-gdal python3-numpy\n",
            "Suggested packages:\n",
            "  libgdal-grass python-numpy-doc python3-pytest\n",
            "The following NEW packages will be installed:\n",
            "  gdal-bin python3-gdal python3-numpy\n",
            "0 upgraded, 3 newly installed, 0 to remove and 38 not upgraded.\n",
            "Need to get 5,168 kB of archives.\n",
            "After this operation, 25.6 MB of additional disk space will be used.\n",
            "Get:1 http://archive.ubuntu.com/ubuntu jammy-updates/main amd64 python3-numpy amd64 1:1.21.5-1ubuntu22.04.1 [3,467 kB]\n",
            "Get:2 https://ppa.launchpadcontent.net/ubuntugis/ppa/ubuntu jammy/main amd64 python3-gdal amd64 3.8.4+dfsg-1~jammy0 [1,095 kB]\n",
            "Get:3 https://ppa.launchpadcontent.net/ubuntugis/ppa/ubuntu jammy/main amd64 gdal-bin amd64 3.8.4+dfsg-1~jammy0 [605 kB]\n",
            "Fetched 5,168 kB in 3s (1,876 kB/s)\n",
            "Selecting previously unselected package python3-numpy.\n",
            "(Reading database ... 126718 files and directories currently installed.)\n",
            "Preparing to unpack .../python3-numpy_1%3a1.21.5-1ubuntu22.04.1_amd64.deb ...\n",
            "Unpacking python3-numpy (1:1.21.5-1ubuntu22.04.1) ...\n",
            "Selecting previously unselected package python3-gdal.\n",
            "Preparing to unpack .../python3-gdal_3.8.4+dfsg-1~jammy0_amd64.deb ...\n",
            "Unpacking python3-gdal (3.8.4+dfsg-1~jammy0) ...\n",
            "Selecting previously unselected package gdal-bin.\n",
            "Preparing to unpack .../gdal-bin_3.8.4+dfsg-1~jammy0_amd64.deb ...\n",
            "Unpacking gdal-bin (3.8.4+dfsg-1~jammy0) ...\n",
            "Setting up python3-numpy (1:1.21.5-1ubuntu22.04.1) ...\n",
            "Setting up python3-gdal (3.8.4+dfsg-1~jammy0) ...\n",
            "Setting up gdal-bin (3.8.4+dfsg-1~jammy0) ...\n",
            "Processing triggers for man-db (2.10.2-1) ...\n",
            "\u001b[2K   \u001b[90m━━━━━━━━━━━━━━━━━━━━━━━━━━━━━━━━━━━━━━━━\u001b[0m \u001b[32m62.7/62.7 kB\u001b[0m \u001b[31m2.3 MB/s\u001b[0m eta \u001b[36m0:00:00\u001b[0m\n",
            "\u001b[2K   \u001b[90m━━━━━━━━━━━━━━━━━━━━━━━━━━━━━━━━━━━━━━━━\u001b[0m \u001b[32m22.3/22.3 MB\u001b[0m \u001b[31m87.3 MB/s\u001b[0m eta \u001b[36m0:00:00\u001b[0m\n",
            "\u001b[?25h"
          ]
        }
      ]
    },
    {
      "cell_type": "markdown",
      "metadata": {
        "id": "PKB7bKwRLi75"
      },
      "source": [
        "Vérifier les importations:"
      ]
    },
    {
      "cell_type": "code",
      "metadata": {
        "id": "BeTLyxCjLi75"
      },
      "source": [
        "import numpy as np\n",
        "import rioxarray as rxr\n",
        "from scipy import signal\n",
        "import xarray as xr\n",
        "import xrscipy\n",
        "import matplotlib.pyplot as plt"
      ],
      "execution_count": 3,
      "outputs": []
    },
    {
      "cell_type": "markdown",
      "metadata": {
        "id": "YWhyPiEYLi76"
      },
      "source": [
        "### Données\n",
        "\n",
        "Nous utilisons ces images dans ce chapitre:"
      ]
    },
    {
      "cell_type": "code",
      "metadata": {
        "colab": {
          "base_uri": "https://localhost:8080/"
        },
        "id": "PR69T76NLi76",
        "outputId": "1c0b732e-5d04-46e2-d3d4-d702ebde2e9a"
      },
      "source": [
        "#| eval: false\n",
        "import gdown\n",
        "\n",
        "gdown.download('https://drive.google.com/uc?export=download&confirm=pbef&id=1a6Ypg0g1Oy4AJt9XWKWfnR12NW1XhNg_', output= 'RGBNIR_of_S2A.tif')\n",
        "gdown.download('https://drive.google.com/uc?export=download&confirm=pbef&id=1a4PQ68Ru8zBphbQ22j0sgJ4D2quw-Wo6', output= 'landsat7.tif')\n",
        "gdown.download('https://drive.google.com/uc?export=download&confirm=pbef&id=1_zwCLN-x7XJcNHJCH6Z8upEdUXtVtvs1', output= 'berkeley.jpg')\n",
        "!wget https://raw.githubusercontent.com/sfoucher/TraitementImagesPythonVol1/refs/heads/main/images/modis-aqua.PNG -O modis-aqua.PNG"
      ],
      "execution_count": 4,
      "outputs": [
        {
          "output_type": "stream",
          "name": "stderr",
          "text": [
            "Downloading...\n",
            "From: https://drive.google.com/uc?export=download&confirm=pbef&id=1a6Ypg0g1Oy4AJt9XWKWfnR12NW1XhNg_\n",
            "To: /content/RGBNIR_of_S2A.tif\n",
            "100%|██████████| 52.6M/52.6M [00:00<00:00, 71.1MB/s]\n",
            "Downloading...\n",
            "From: https://drive.google.com/uc?export=download&confirm=pbef&id=1a4PQ68Ru8zBphbQ22j0sgJ4D2quw-Wo6\n",
            "To: /content/landsat7.tif\n",
            "100%|██████████| 4.87M/4.87M [00:00<00:00, 22.9MB/s]\n",
            "Downloading...\n",
            "From: https://drive.google.com/uc?export=download&confirm=pbef&id=1_zwCLN-x7XJcNHJCH6Z8upEdUXtVtvs1\n",
            "To: /content/berkeley.jpg\n",
            "100%|██████████| 425k/425k [00:00<00:00, 68.8MB/s]\n"
          ]
        },
        {
          "output_type": "stream",
          "name": "stdout",
          "text": [
            "--2025-10-25 21:06:52--  https://raw.githubusercontent.com/sfoucher/TraitementImagesPythonVol1/refs/heads/main/images/modis-aqua.PNG\n",
            "Resolving raw.githubusercontent.com (raw.githubusercontent.com)... 185.199.108.133, 185.199.109.133, 185.199.110.133, ...\n",
            "Connecting to raw.githubusercontent.com (raw.githubusercontent.com)|185.199.108.133|:443... connected.\n",
            "HTTP request sent, awaiting response... 200 OK\n",
            "Length: 481097 (470K) [image/png]\n",
            "Saving to: ‘modis-aqua.PNG’\n",
            "\n",
            "modis-aqua.PNG      100%[===================>] 469.82K  --.-KB/s    in 0.1s    \n",
            "\n",
            "2025-10-25 21:06:52 (3.52 MB/s) - ‘modis-aqua.PNG’ saved [481097/481097]\n",
            "\n"
          ]
        }
      ]
    },
    {
      "cell_type": "markdown",
      "metadata": {
        "id": "cMAYLw0BLi76"
      },
      "source": [
        "Vérifiez que vous êtes capable de les lire:"
      ]
    },
    {
      "cell_type": "code",
      "metadata": {
        "id": "A-3otBDuLi77"
      },
      "source": [
        "#| output: false\n",
        "\n",
        "with rxr.open_rasterio('berkeley.jpg', mask_and_scale= True) as img_rgb:\n",
        "    print(img_rgb)\n",
        "with rxr.open_rasterio('RGBNIR_of_S2A.tif', mask_and_scale= True) as img_rgbnir:\n",
        "    print(img_rgbnir)"
      ],
      "execution_count": null,
      "outputs": []
    },
    {
      "cell_type": "markdown",
      "metadata": {
        "id": "6QcolJ6ZLi77"
      },
      "source": [
        "## Importation d'images\n",
        "\n",
        "La première étape avant tout traitement est d'accéder à la donnée image pour qu'elle soit manipulée par le langage Python. L'imagerie satellite présente certains défis notamment en raison de la taille parfois très importante des images. Il existe maintenant certaines bibliothèques, comme [Xarray](https://docs.xarray.dev/en/stable/), qui visent à optimiser la lecture et l'écriture de grandes images. Il est donc conseillé de toujours garder un oeil sur l'espace mémoire occupé par les variables Python représentant les images. La librairie principale en géomatique qui permettre d'importer (et d'exporter) de l'imagerie est la librairie [GDAL](https://gdal.org) qui rassemble la plupart des formats sous forme de *driver* (ou pilote en français).\n",
        "\n",
        "Dans le domaine de la géomatique, il faut prêter attention à trois caractéristiques principales des images:\n",
        "\n",
        "1\\. **La matrice des données** elle-même qui contient les valeurs brutes des pixels. Cette matrice sera souvent un cube à trois dimensions. En Python, ce cube sera le plus souvent un objet de la librairie [NumPy](https://numpy.org/) (voir section).\n",
        "\n",
        "2\\. **La dynamique des images** c.-à.-d le format de stockage des valeurs individuelles (octet, entier, double, etc.). Ce format décide principalement de la résolution radiométrique et des valeurs minimales et maximales supportées.\n",
        "\n",
        "3\\. **Le nombre de bandes** spectrales de l'image qui est souvent supérieur à trois et peut atteindre plusieurs centaines de bandes pour certains capteurs (notamment hyperspectraux).\n",
        "\n",
        "4\\. **La métadonnée** qui va transporter l'information auxiliaire de l'image comme les dimensions et la position de l'image, la date, etc. Cette donnée auxiliaire prendra souvent la forme d'un dictionnaire Python. Elle contiendra aussi l'information de géoréférence.\n",
        "\n",
        "Les différents formats se distinguent principalement sur la manière dont ces trois caractéristiques sont gérées.\n",
        "\n",
        "### Formats des images\n",
        "\n",
        "Il existe de nombreux formats numériques pour la donnée de type image parfois appelé donnée matricielle ou donnée *raster*. La librairie GDAL rassemble la plupart des formats matriciels rencontrés en géomatique (voir [Raster drivers — GDAL documentation](https://gdal.org/en/latest/drivers/raster/index.html) pour une liste complète).\n",
        "\n",
        "On peut distinguer deux grandes familles de format:\n",
        "\n",
        "1\\. Les formats de type **RVB** issus de l'imagerie numérique grand public comme [JPEG](https://gdal.org/en/latest/drivers/raster/jpeg.html#raster-jpeg), [png](https://gdal.org/en/latest/drivers/raster/png.html#raster-png), etc. Ces formats ne supportent généralement que trois bandes au maximum (rouge, vert et bleu) et des valeurs de niveaux de gris entre 0 et 255 (format dit 8 bits ou `uint8`).\n",
        "\n",
        "2\\. **Les géo-formats** issus des domaines scientifiques ou techniques comme GeoTIFF, HDF5, NetCDF, etc. qui peuvent inclure plus que trois bandes et des dynamiques plus élevées (16 bits ou même float).\n",
        "\n",
        "Les formats RVB restent très utilisés en Python notamment par les bibliothèques dites de vision par ordinateur (*Computer Vision*) comme OpenCV et sickit-image ainsi que les grandes bibliothèques en apprentissage profond (PyTorch, Tensorflow).\n",
        "\n",
        ":::::: bloc_package\n",
        ":::: bloc_package-header\n",
        "::: bloc_package-icon\n",
        ":::\n",
        "\n",
        "**Installation de gdal dans un système Linux**\n",
        "::::\n",
        "\n",
        "::: bloc_package-body\n",
        "-   Pour installer GDAL :\n",
        "\n",
        "```         \n",
        "!apt-get update\n",
        "!apt-get install gdal-bin libgdal-dev\n",
        "```\n",
        ":::\n",
        "::::::\n",
        "\n",
        "#### Formats de type RVB\n",
        "\n",
        "Les premiers formats pour de l'imagerie à une bande (monochrome) et à trois bandes (image couleur rouge-vert-bleu) sont issus du domaine des sciences de l'ordinateur. On trouvera, entre autres, les formats pbm, png et jpeg. Ces formats supportent peu de métadonnées et sont placées dans un entête (*header*) très limité. Cependant, ils restent très populaires dans le domaine de la vision par ordinateur et sont très utilisés en apprentissage profond en particulier. Pour la lecture des images RVB, on peut utiliser les bibliothèques Rasterio, [PIL](https://he-arc.github.io/livre-python/pillow/index.html) ou [OpenCV](https://docs.opencv.org/4.10.0/index.html).\n",
        "\n",
        "##### Lecture avec la librairie PIL\n",
        "\n",
        "La librairie PIL retourne un objet de type `PngImageFile`, l'affichage de l'image se fait directement dans la cellule de sortie."
      ]
    },
    {
      "cell_type": "code",
      "metadata": {
        "id": "s-RNuffmLi77"
      },
      "source": [
        "from PIL import Image\n",
        "img = Image.open('modis-aqua.PNG')\n",
        "img"
      ],
      "execution_count": null,
      "outputs": []
    },
    {
      "cell_type": "markdown",
      "metadata": {
        "id": "o1qiLjRILi78"
      },
      "source": [
        "##### Lecture avec la librairie OpenCV\n",
        "\n",
        "La librairie [OpenCV](https://docs.opencv.org/4.10.0/index.html) est aussi très populaire en vision par ordinateur. La fonction `imread` donne directement un objet de type NumPy en sortie."
      ]
    },
    {
      "cell_type": "code",
      "metadata": {
        "id": "nsH1WGWELi78"
      },
      "source": [
        "import cv2\n",
        "img = cv2.imread('modis-aqua.PNG')\n",
        "img"
      ],
      "execution_count": null,
      "outputs": []
    },
    {
      "cell_type": "markdown",
      "metadata": {
        "id": "biBkNEbtLi78"
      },
      "source": [
        "##### Lecture avec la librairie RasterIO\n",
        "\n",
        "Rien ne nous empêche de lire une image de format RVB avec [RasterIO](https://rasterio.readthedocs.io/en/stable/) comme décrit dans ci-dessous. Vous noterez cependant les avertissements concernant l'absence de géoréférence pour ce type d'image."
      ]
    },
    {
      "cell_type": "code",
      "metadata": {
        "id": "BtwQrrGXLi78"
      },
      "source": [
        "import rasterio\n",
        "img= rasterio.open('modis-aqua.PNG')\n",
        "img"
      ],
      "execution_count": null,
      "outputs": []
    },
    {
      "cell_type": "markdown",
      "metadata": {
        "id": "sugwc1EQLi78"
      },
      "source": [
        "#### Le format GeoTiff\n",
        "\n",
        "Le format GeoTIFF est une extension du format TIFF (Tagged Image File Format) qui permet d'incorporer des métadonnées géospatiales directement dans un fichier image. Développé initialement par Dr. Niles Ritter au Jet Propulsion Laboratory de la [NASA](https://www.earthdata.nasa.gov/esdis/esco/standards-and-practices/geotiff){target=\"_blank\"} dans les années 1990, GeoTIFF est devenu un standard de facto pour le stockage et l'échange d'images géoréférencées dans les domaines de la télédétection et des systèmes d'information géographique (SIG). Ce format supporte plus que trois bandes aussi longtemps que ces bandes sont de même dimension.\n",
        "\n",
        "Le format GeoTIFF est très utilisé et est largement supporté par les bibliothèques et logiciels géospatiaux, notamment [GDAL](https://gdal.org) (*Geospatial Data Abstraction Library*), qui offre des capacités de lecture et d'écriture pour ce format. Cette compatibilité étendue a contribué à son adoption généralisée dans la communauté géospatiale.\n",
        "\n",
        "##### Standardisation par l'OGC\n",
        "\n",
        "Le standard GeoTIFF proposé par l'Open Geospatial Consortium (OGC) en 2019 formalise et étend les spécifications originales du format GeoTIFF, offrant une norme robuste pour l'échange d'images géoréférencées. Cette standardisation, connue sous le nom d'OGC GeoTIFF 1.1 [-@OGCGeoTIFF], apporte plusieurs améliorations et clarifications importantes.\n",
        "\n",
        "#### Le format COG\n",
        "\n",
        "Une innovation récente dans l'écosystème GeoTIFF est le format *Cloud Optimized GeoTIFF* ([COG](http://cogeo.org/)), conçu pour faciliter l'utilisation de fichiers GeoTIFF hébergés sur des serveurs web HTTP. Le COG permet aux utilisateurs et aux logiciels d'accéder à des parties spécifiques du fichier sans avoir à le télécharger entièrement, ce qui est particulièrement utile pour les applications basées sur l'infonuagique.\n",
        "\n",
        "### Métadonnées des images\n",
        "\n",
        "La manière la plus directe d'accéder à la métadonnée d'une image est d'utiliser les commandes [`rio info`](https://rasterio.readthedocs.io/en/stable/cli.html#info) de la librairie Rasterio ou `gdalinfo` de la librairie `gdal`. Le résultat est imprimé dans la sortie standard ou sous forme d'un dictionnaire Python."
      ]
    },
    {
      "cell_type": "code",
      "metadata": {
        "id": "VFZzjw--Li79"
      },
      "source": [
        "!gdalinfo RGBNIR_of_S2A.tif"
      ],
      "execution_count": null,
      "outputs": []
    },
    {
      "cell_type": "markdown",
      "metadata": {
        "id": "5bj2erAvLi79"
      },
      "source": [
        "Le plus simple est d'utiliser la fonction `rio info`:"
      ]
    },
    {
      "cell_type": "code",
      "metadata": {
        "id": "VwfKV2DfLi79"
      },
      "source": [
        "#| eval: false\n",
        "!rio info RGBNIR_of_S2A.tif --indent 2 --verbose"
      ],
      "execution_count": null,
      "outputs": []
    },
    {
      "cell_type": "markdown",
      "metadata": {
        "id": "fR3d-nrELi79"
      },
      "source": [
        "## Manipulation des images\n",
        "\n",
        "### Manipulation de la matrice de pixels\n",
        "\n",
        "La donnée brute de l'image est généralement contenue dans un cube matricielle à trois dimensions (deux dimensions spatiales et une dimension spectrale). Comme exposé précédemment, la librairie dite *\"fondationnelle\"* pour la manipulation de matrices en Python est [NumPy](https://numpy.org/). Cette librairie contient un nombre très important de fonctionnalités couvrant l'algèbre linéaire, les statistiques, etc.; elle constitue la fondation de nombreuses bibliothèques en traitement numérique (voir (@fig-naturenumpy1))\n",
        "\n",
        "![La librairie NumPy est le fondement de nombreuses bibliothèques scientifiques (d'après [@NumpyNature]).](images/41586_2020_2649_Fig2_HTML.png){#fig-naturenumpy1 width=\"100%\" fig-align=\"center\"}\n",
        "\n",
        "### Information de base\n",
        "\n",
        "Les deux informations de base à afficher sur une matrice sont 1) les dimensions de la matrice et 2) le format de stockage (le type). Pour cela, on peut utiliser le code ci-dessous, dont le résultat nous informe que la matrice a trois dimensions et une taille de `(442, 553, 3)` et un type `uint8` qui représente 1 octet (8 bit). Par conséquent, la matrice a `442` lignes, `553` colonnes et `3` canaux ou bandes. Il faut prêter une attention particulière aux valeurs minimales et maximales tolérées par le type de la donnée comme indiqué dans le (@tbl-numpytype) (voir aussi [Data types — NumPy v2.1 Manual](https://numpy.org/doc/stable/user/basics.types.html))."
      ]
    },
    {
      "cell_type": "code",
      "metadata": {
        "id": "BYF23OajLi79"
      },
      "source": [
        "import cv2\n",
        "img = cv2.imread('modis-aqua.PNG')\n",
        "print('Nombre de dimensions: ',img.ndim)\n",
        "print('Dimensions de la matrice: ',img.shape)\n",
        "print('Type de la donnée: ',img.dtype)"
      ],
      "execution_count": null,
      "outputs": []
    },
    {
      "cell_type": "code",
      "metadata": {
        "id": "zTnUSTOGLi79"
      },
      "source": [
        "#| echo: false\n",
        "#| label: tbl-numpytype\n",
        "#| tbl-cap: \"Type de données de NumPy\"\n",
        "\n",
        "from IPython.display import Markdown\n",
        "from tabulate import tabulate\n",
        "table = [[\"uint8\", \"char\", 8, 0, 255],\n",
        "        [\"int8\", \"signed char\", 8, -127, +128],\n",
        "        [\"uint16\", \"unsigned short\", 16, 0, -32768, +32767],\n",
        "        [\"int16\", \"short\", 16, 0, 655355]]\n",
        "Markdown(tabulate(table, headers=[\"dtype\", \"Nom\", \"Taille (bits)\", \"Min\", \"Max\"], tablefmt=\"pipe\"))"
      ],
      "execution_count": null,
      "outputs": []
    },
    {
      "cell_type": "markdown",
      "metadata": {
        "id": "vTrkMdm6Li79"
      },
      "source": [
        "### Découpage et indexation de la matrice\n",
        "\n",
        "L'indexation et le découpage (*slicing*) des matrices dans NumPy sont des techniques essentielles pour manipuler efficacement les données multidimensionnelles en Python, offrant une syntaxe puissante et flexible pour accéder et modifier des sous-ensembles spécifiques d'éléments dans les tableaux (voir @fig-naturenumpy2). Indexer une matrice consiste à accéder à une valeur dans la matrice pour une position particulière, la syntaxe générale est `matrice[ligne, colonne, bande]` et est similaire à la manipulation des [listes](https://docs.python.org/fr/3/tutorial/introduction.html#lists) en Python. Les indices commencent à `0` et se termine à la `taille-1` de l'axe considéré.\n",
        "\n",
        "![Vue d'ensemble des opérations de base des matrices avec NumPy](https://github.com/sfoucher/TraitementImagesPythonVol1/blob/main/notebooks/images/41586_2020_2649_Fig1_HTML.png?raw=1){#fig-naturenumpy2 width=\"100%\" fig-align=\"center\"}\n",
        "\n",
        "Le découpage (ou *slicing* en anglais) consiste à produire une nouvelle matrice qui est un sous-ensemble de la matrice d'origine. Un découpage se fait avec le symbole ':', la syntaxe générale pour définir un découpage est `[début:fin:pas]`. Si on ne spécifie pas `début` ou `fin` alors les valeurs 0 ou `dimension-1` sont considérées implicitement. Quelques exemples: \\* choisir un pixel en particulier avec toutes les bandes: `matrice[1,1,:]` \\* choisir la colonne 2: `matrice[:,2,:]`\n",
        "\n",
        "La syntaxe de base pour le découpage (*slicing*) des tableaux NumPy repose sur l'utilisation des deux-points (`:`) à l'intérieur des crochets d'indexation. Cette notation permet de sélectionner des plages d'éléments de manière concise et intuitive. La structure générale du découpage est `matrice[start:stop:step]`, où : 1. `start` représente l'index de départ (inclus) 2. `stop` indique l'index de fin (exclu) 3. `step` définit l'intervalle entre chaque élément sélectionné\n",
        "\n",
        "Si l'un de ces paramètres est omis, NumPy utilise des valeurs par défaut : 0 pour `start`, la taille du tableau pour `stop`, et 1 pour `step`. Par exemple, pour un tableau unidimensionnel `array`, on peut extraire les éléments du deuxième au quatrième avec `array[1:4]`. Pour sélectionner tous les éléments à partir du troisième, on utiliserait `array[2:]`. Cette syntaxe s'applique également aux tableaux multidimensionnels, où chaque dimension est séparée par une virgule. Ainsi, pour une matrice 2D m, `m[0:2, 1:3]` sélectionnerait une sous-matrice 2x2 composée des deux premières lignes et des deuxième et troisième colonnes. L'indexation négative est également supportée, permettant de compter à partir de la fin du tableau. Par exemple, `a[-3:]` sélectionnerait les trois derniers éléments d'un tableau."
      ]
    },
    {
      "cell_type": "code",
      "metadata": {
        "id": "SYbcS0ccLi7-"
      },
      "source": [
        "import cv2\n",
        "img = cv2.imread('modis-aqua.PNG')\n",
        "img_col = img[:,1,:]\n",
        "print('Nombre de dimensions: ',img_col.ndim)\n",
        "print('Dimensions de la matrice: ',img_col.shape)"
      ],
      "execution_count": null,
      "outputs": []
    },
    {
      "cell_type": "markdown",
      "metadata": {
        "id": "76TMjT2nLi7-"
      },
      "source": [
        ":::::: bloc_aller_loin\n",
        ":::: bloc_aller_loin-header\n",
        "::: bloc_aller_loin-icon\n",
        ":::\n",
        "\n",
        "**Une vue versus une copie**\n",
        "::::\n",
        "\n",
        "::: bloc_aller_loin-body\n",
        "Avec NumPy, les manipulations peuvent créer des vues ou des copies. Une vue est une simple représentation de la même donnée originale alors qu'une copie est un nouvel espace mémoire.\n",
        "\n",
        "Par défaut, un découpage créé une vue.\n",
        "\n",
        "On peut vérifier si l'espace mémoire est partagé avec `np.shares_memory(arr, slice_arr)`.\n",
        "\n",
        "On peut toujours forcer une copie avec la méthode `copy()`\n",
        ":::\n",
        "::::::\n",
        "\n",
        "```{=html}\n",
        "<!--\n",
        "#### Exemple 1: calcul d'un rapport de bande\n",
        "\n",
        "#### Exemple 2: application d'un filtrage spatial\n",
        "\n",
        "### Mosaïquage, masquage et découpage\n",
        "-->\n",
        "```\n",
        "\n",
        "#### Masquage\n",
        "\n",
        "L'utilisation d'un masque est un outil important en traitement d'image car la plupart des images de télédétection contiennent des pixels non valides qu'il faut exclure des traitements (ce que l'on appelle le *no data* en Anglais). Il y a plusieurs raison possibles pour la présence de pixels non valides:\n",
        "\n",
        "1.  L'image est projetée dans une grille cartographique et certaines zones, généralement situées en dehors de l'empreinte au sol du capteur, sont à exclure.\n",
        "\n",
        "2.  La présence de nuages que l'on veut exclure.\n",
        "\n",
        "3.  La présence de pixels erronés dus à des problèmes de capteurs.\n",
        "\n",
        "4.  La présence de valeurs non numériques (*not a number* ou `nan`)\n",
        "\n",
        "La librairie NumPy fournit des mécanismes pour exclure automatiquement certaines valeurs.\n",
        "\n",
        "### Changement de projection cartographique (à venir)\n",
        "\n",
        "```{=html}\n",
        "<!--\n",
        "### Recalage d'images et co-registration\n",
        "-->\n",
        "```\n",
        "\n",
        "## Données en géoscience\n",
        "\n",
        "Les données en géoscience contiennent beaucoup de métadonnées et peuvent être composées de différentes variables avec différentes unités, résolution, etc. Ces données sont aussi souvent étiquetées avec des dates sur certains axes, des coordonnées géographiques, des identifiants d'expériences, etc. Par conséquent, utiliser seulement des matrices est souvent incomplet [@xarray-2017].\n",
        "\n",
        "Calibration, unités, données manquantes, données éparses.\n",
        "\n",
        "### xarray\n",
        "\n",
        "[Xarray](https://docs.xarray.dev/en/latest/getting-started-guide/why-xarray.html) est une puissante bibliothèque Python qui améliore les matrices multidimensionnelles de type numpy en y ajoutant des étiquettes, des dimensions, des coordonnées et des attributs. Elle fournit deux structures de données principales : `DataArray` (un tableau étiqueté à n dimensions) et `Dataset` (une base de données de tableaux multidimensionnels en mémoire).\n",
        "\n",
        "Les caractéristiques principales sont les suivantes:\n",
        "\n",
        "-   Opérations sur les dimensions nommées au lieu des numéros d'axe\n",
        "\n",
        "-   Sélection et opérations basées sur les étiquettes\n",
        "\n",
        "-   Diffusion automatique de tableaux basée sur les noms de dimensions\n",
        "\n",
        "-   Alignement de type base de données avec des étiquettes de coordonnées\n",
        "\n",
        "-   Suivi des métadonnées grâce à des dictionnaires Python\n",
        "\n",
        "#### Avantages\n",
        "\n",
        "La bibliothèque réduit considérablement la complexité du code et améliore la lisibilité du code pour les applications de calcul scientifique dans divers domaines, notamment la physique, l'astronomie, les géosciences, la bio-informatique, l'ingénierie, la finance et l'apprentissage profond. Elle s'intègre de manière transparente avec NumPy et pandas tout en restant compatible avec l'écosystème Python au sens large.\n",
        "\n",
        "#### DataArray\n",
        "\n",
        "Un tableau multidimensionnel étiqueté avec des propriétés clées :\n",
        "\n",
        "-   `valeurs` : Les données réelles du tableau\n",
        "\n",
        "-   `dims` : Dimensions nommées (par exemple, « x », « y », « z »)\n",
        "\n",
        "-   `coords` : Dictionnaire de tableaux étiquetant chaque point\n",
        "\n",
        "-   `attrs` : Stockage de métadonnées arbitraires\n",
        "\n",
        "-   `name` : Identifiant facultatif\n",
        "\n",
        "#### Dataset\n",
        "\n",
        "Un conteneur de type dictionnaire de `DataArrays` avec des dimensions alignées, contenant :\n",
        "\n",
        "-   `dims` : Dictionnaire de correspondance entre les noms des dimensions et les longueurs\n",
        "\n",
        "-   `data_vars` : Dictionnaire des variables du DataArray\n",
        "\n",
        "-   `coords` : Dictionnaire des variables de coordonnées\n",
        "\n",
        "-   `attrs` : Stockage des métadonnées\n",
        "\n",
        "Les principales différences sont les suivantes :\n",
        "\n",
        "-   `DataArray` contient un seul tableau avec des étiquettes\n",
        "\n",
        "-   Le `Dataset` contient plusieurs DataArrays alignés.\n",
        "\n",
        "Ces trois structures prennent en charge les opérations de type dictionnaire et les calculs de coordination tout en conservant les métadonnées.\n",
        "\n",
        "![Organisation d'un Dataset dans xarray](https://github.com/sfoucher/TraitementImagesPythonVol1/blob/main/notebooks/images/xarray-dataset-diagram.png?raw=1){#fig-xarray width=\"80%\" fig-align=\"center\"}\n",
        "\n",
        "```{=html}\n",
        "<!--\n",
        "netcdf, xarray, GRIB.\n",
        "\n",
        "Données météos, exemple avec SWOT.\n",
        "-->\n",
        "```\n",
        "\n",
        "```{=html}\n",
        "<!--\n",
        "## Importation de données vectorielles\n",
        "\n",
        "### Importation d'un fichier *shapefile*\n",
        "\n",
        "### Importation d'une couche dans un *GeoPackage*\n",
        "\n",
        "### Importation d'une couche dans une *geodatabase* d'ESRI\n",
        "\n",
        "### Importation d'un fichier *shapefile*\n",
        "\n",
        "## Manipulation de données vectorielles\n",
        "\n",
        "### Requêtes attributaires\n",
        "\n",
        "## Exercices de révision\n",
        "-->\n",
        "```"
      ]
    }
  ],
  "metadata": {
    "kernelspec": {
      "display_name": "Python 3",
      "language": "python",
      "name": "python3"
    },
    "colab": {
      "provenance": []
    }
  },
  "nbformat": 4,
  "nbformat_minor": 0
}